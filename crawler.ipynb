{
  "nbformat": 4,
  "nbformat_minor": 0,
  "metadata": {
    "colab": {
      "name": "Untitled1.ipynb",
      "provenance": [],
      "authorship_tag": "ABX9TyPup1l6uomF9vVDlHJeaiiG",
      "include_colab_link": true
    },
    "kernelspec": {
      "name": "python3",
      "display_name": "Python 3"
    },
    "accelerator": "GPU"
  },
  "cells": [
    {
      "cell_type": "markdown",
      "metadata": {
        "id": "view-in-github",
        "colab_type": "text"
      },
      "source": [
        "<a href=\"https://colab.research.google.com/github/WKLeee/naver_news_crawler/blob/master/crawler.ipynb\" target=\"_parent\"><img src=\"https://colab.research.google.com/assets/colab-badge.svg\" alt=\"Open In Colab\"/></a>"
      ]
    },
    {
      "cell_type": "code",
      "metadata": {
        "id": "UlEseFeN7MSr",
        "colab_type": "code",
        "colab": {}
      },
      "source": [
        "import os\n",
        "import requests\n",
        "import csv\n",
        "import time\n",
        "from bs4 import BeautifulSoup\n",
        "from google.colab import files"
      ],
      "execution_count": 205,
      "outputs": []
    },
    {
      "cell_type": "code",
      "metadata": {
        "id": "fF9QcYjb7Umr",
        "colab_type": "code",
        "colab": {}
      },
      "source": [
        "# Search Options\n",
        "\n",
        "## Period\n",
        "start_date = '2020.08.01'\n",
        "end_date = '2020.08.31'\n",
        "\n",
        "## Keyword\n",
        "keyword = '삼성전자'"
      ],
      "execution_count": 206,
      "outputs": []
    },
    {
      "cell_type": "code",
      "metadata": {
        "id": "AKaSxXrFGY4Z",
        "colab_type": "code",
        "colab": {
          "base_uri": "https://localhost:8080/",
          "height": 55
        },
        "outputId": "527a4613-1690-42e9-93b4-d8d1047ca397"
      },
      "source": [
        "def naver_url_maker(keyword, start_date, end_date):\n",
        "  naver_url_head = 'https://search.naver.com/search.naver?where=news&sm=tab_jum&query='\n",
        "  naver_url_mid = '&sm=tab_opt&sort=0&photo=0&field=0&reporter_article=&pd=3&ds='\n",
        "  url = naver_url_head + keyword + naver_url_mid + start_date + '&de=' + end_date\n",
        "  return url\n",
        "\n",
        "# Get Starting url\n",
        "current_url = naver_url_maker(keyword, start_date, end_date)\n",
        "print(current_url)"
      ],
      "execution_count": 237,
      "outputs": [
        {
          "output_type": "stream",
          "text": [
            "https://search.naver.com/search.naver?where=news&sm=tab_jum&query=삼성전자&sm=tab_opt&sort=0&photo=0&field=0&reporter_article=&pd=3&ds=2020.08.01&de=2020.08.31\n"
          ],
          "name": "stdout"
        }
      ]
    },
    {
      "cell_type": "code",
      "metadata": {
        "id": "EZa-K3F3GmAx",
        "colab_type": "code",
        "colab": {
          "base_uri": "https://localhost:8080/",
          "height": 35
        },
        "outputId": "09093ff3-5b35-49c1-a521-ab884dd0d717"
      },
      "source": [
        "# Start Crawling\n",
        "start = time.time()\n",
        "file_num = 0\n",
        "anum = 0\n",
        "csvfile = open('csvfile_'+str(file_num).zfill(3)+'.csv', 'w', encoding='utf-8', newline='')\n",
        "wr = csv.writer(csvfile)\n",
        "\n",
        "while True:\n",
        "  if anum > 10:\n",
        "    csvfile.close()\n",
        "    file_num += 1\n",
        "    csvfile = open('csvfile_'+str(file_num).zfill(3)+'.csv', 'w', encoding='utf-8', newline='')\n",
        "    wr = csv.writer(csvfile)\n",
        "    anum = 0\n",
        "\n",
        "  r = requests.get(current_url)\n",
        "  soup = BeautifulSoup(r.text, 'html.parser')\n",
        "  link_element = soup.select('dd.txt_inline a[href]')\n",
        "\n",
        "  for link in link_element:\n",
        "    naver_news_url = link['href']\n",
        "    rn = requests.get(naver_news_url)\n",
        "    soupn = BeautifulSoup(rn.text, 'html.parser')\n",
        "    head_tag = soupn.select('.article_info > h3')\n",
        "    article_header = head_tag[0].text\n",
        "    body_tag = soupn.select('#articleBodyContents')\n",
        "    article_body = body_tag[0].text\n",
        "    wr.writerow([anum, article_header, article_body])\n",
        "    anum += 1\n",
        "\n",
        "  if file_num == 3:\n",
        "    break\n",
        "\n",
        "  # If there is no next page, finish.\n",
        "  pages = soup.select('div.paging a.next')\n",
        "  if len(pages) == 0:\n",
        "    break\n",
        "  else:\n",
        "    href = pages[len(pages)-1]['href']\n",
        "    current_url = 'https://search.naver.com/search.naver'+href\n",
        "\n",
        "print(time.time()-start)"
      ],
      "execution_count": 242,
      "outputs": [
        {
          "output_type": "stream",
          "text": [
            "40.906126260757446\n"
          ],
          "name": "stdout"
        }
      ]
    },
    {
      "cell_type": "code",
      "metadata": {
        "id": "FpM1PPCIcVcC",
        "colab_type": "code",
        "colab": {
          "base_uri": "https://localhost:8080/",
          "height": 35
        },
        "outputId": "154e3af8-1d78-4d1a-ab38-71297ec60931"
      },
      "source": [
        "r = requests.get(current_url)\n",
        "soup = BeautifulSoup(r.text, 'html.parser')\n",
        "\n",
        "start = time.time()\n",
        "for i in range(3000):\n",
        "  head_tag = soupn.select('.article_info h3')\n",
        "end = time.time()-start\n",
        "print(end)"
      ],
      "execution_count": 256,
      "outputs": [
        {
          "output_type": "stream",
          "text": [
            "3.9739365577697754\n"
          ],
          "name": "stdout"
        }
      ]
    },
    {
      "cell_type": "code",
      "metadata": {
        "id": "6MFomQCTgpnW",
        "colab_type": "code",
        "colab": {
          "base_uri": "https://localhost:8080/",
          "height": 35
        },
        "outputId": "b49d7eea-ffde-4c86-cfa5-c67a04b103b8"
      },
      "source": [
        "head_tag[0].text"
      ],
      "execution_count": 257,
      "outputs": [
        {
          "output_type": "execute_result",
          "data": {
            "application/vnd.google.colaboratory.intrinsic+json": {
              "type": "string"
            },
            "text/plain": [
              "'축구장 16개 크기 세계 최대 삼성평택 2라인 가동 시작'"
            ]
          },
          "metadata": {
            "tags": []
          },
          "execution_count": 257
        }
      ]
    },
    {
      "cell_type": "code",
      "metadata": {
        "id": "1lwGXZwvgv_x",
        "colab_type": "code",
        "colab": {}
      },
      "source": [
        "current_url = 'https://search.naver.com/search.naver'+href"
      ],
      "execution_count": 258,
      "outputs": []
    },
    {
      "cell_type": "code",
      "metadata": {
        "id": "BDUxT0ROgxn_",
        "colab_type": "code",
        "colab": {
          "base_uri": "https://localhost:8080/",
          "height": 71
        },
        "outputId": "816d4960-0cc9-460b-fa62-50d7d1ce0d4e"
      },
      "source": [
        "current_url"
      ],
      "execution_count": 212,
      "outputs": [
        {
          "output_type": "execute_result",
          "data": {
            "application/vnd.google.colaboratory.intrinsic+json": {
              "type": "string"
            },
            "text/plain": [
              "'https://search.naver.com/search.naver?&where=news&query=%EC%82%BC%EC%84%B1%EC%A0%84%EC%9E%90&sm=tab_pge&sort=0&photo=0&field=0&reporter_article=&pd=3&ds=2020.08.01&de=2020.08.31&docid=&nso=so:r,p:from20200801to20200831,a:all&mynews=0&cluster_rank=115&start=71'"
            ]
          },
          "metadata": {
            "tags": []
          },
          "execution_count": 212
        }
      ]
    },
    {
      "cell_type": "code",
      "metadata": {
        "id": "FSxWUcggg4U2",
        "colab_type": "code",
        "colab": {}
      },
      "source": [
        ""
      ],
      "execution_count": null,
      "outputs": []
    }
  ]
}