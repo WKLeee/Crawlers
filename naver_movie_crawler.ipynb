{
 "metadata": {
  "language_info": {
   "codemirror_mode": {
    "name": "ipython",
    "version": 3
   },
   "file_extension": ".py",
   "mimetype": "text/x-python",
   "name": "python",
   "nbconvert_exporter": "python",
   "pygments_lexer": "ipython3",
   "version": "3.7.10"
  },
  "orig_nbformat": 2,
  "kernelspec": {
   "name": "python3710jvsc74a57bd0be9751e75a40df7660ca672ce3f25c04f34c66227ca69b8f4facad73a63cd789",
   "display_name": "Python 3.7.10 64-bit ('nlp': conda)"
  }
 },
 "nbformat": 4,
 "nbformat_minor": 2,
 "cells": [
  {
   "cell_type": "code",
   "execution_count": 1,
   "metadata": {},
   "outputs": [],
   "source": [
    "import time\n",
    "import csv\n",
    "\n",
    "import urllib\n",
    "import requests\n",
    "from bs4 import BeautifulSoup"
   ]
  },
  {
   "cell_type": "code",
   "execution_count": 22,
   "metadata": {
    "tags": []
   },
   "outputs": [
    {
     "output_type": "stream",
     "name": "stdout",
     "text": [
      "100\n",
      "200\n",
      "300\n",
      "400\n",
      "500\n",
      "600\n",
      "700\n",
      "800\n",
      "900\n",
      "1000\n",
      "1100\n",
      "1200\n",
      "1300\n",
      "1400\n",
      "1500\n",
      "1600\n"
     ]
    }
   ],
   "source": [
    "update_url = 'http://movie.naver.com/movie/sdb/browsing/bmovie.nhn?nation=KR&page='\n",
    "data_path = './data/poster/'\n",
    "\n",
    "count = 0\n",
    "pnum = 1\n",
    "\n",
    "csv_file = open('data/movie_data.csv', 'w', encoding='utf-8-sig', newline='')\n",
    "wr = csv.writer(csv_file)\n",
    "\n",
    "while True:\n",
    "    r = requests.get(update_url+str(pnum))\n",
    "    soup = BeautifulSoup(r.text, 'html.parser')\n",
    "\n",
    "    link_element = soup.select('#old_content > .directory_list > li > a[href]')\n",
    "\n",
    "    for movie_link in link_element:\n",
    "        movie_url = 'http://movie.naver.com' + movie_link['href']\n",
    "\n",
    "        mr = requests.get(movie_url)\n",
    "        msoup = BeautifulSoup(mr.text, 'html.parser')\n",
    "\n",
    "        # Movie Poster\n",
    "        movie_poster_element = msoup.select('div.poster img')\n",
    "        if len(movie_poster_element) < 1:\n",
    "            continue\n",
    "        movie_poster_isavailable = movie_poster_element[0]['alt']\n",
    "\n",
    "        if movie_poster_isavailable == '이미지 준비중입니다.':\n",
    "            continue\n",
    "\n",
    "        movie_poster_url = movie_poster_element[1]['src']\n",
    "        urllib.request.urlretrieve(movie_poster_url, data_path+str(count).zfill(6)+\".jpg\")\n",
    "\n",
    "        # Movie Title\n",
    "        movie_title_element = msoup.select('h3.h_movie > a')\n",
    "        movie_title = movie_title_element[0].text\n",
    "\n",
    "        # Movie Year\n",
    "        movie_year_element = msoup.select('strong.h_movie2')\n",
    "        movie_year = movie_year_element[0].text\n",
    "\n",
    "        # Movie Info\n",
    "        movie_info_list = []\n",
    "        movie_info_element = msoup.select('dl.info_spec dd a')\n",
    "        for movie_info in movie_info_element:\n",
    "            if movie_info.text == '더보기':\n",
    "                continue\n",
    "            movie_info_list.append(movie_info.text)\n",
    "\n",
    "        # Movie Age\n",
    "        movie_age_list = []\n",
    "        movie_age_element = msoup.select('div.graph_box strong')\n",
    "        for i, movie_age in enumerate(movie_age_element):\n",
    "            if i%2==0:\n",
    "                movie_age_list.append(movie_age.text)\n",
    "            if i==10:\n",
    "                break\n",
    "\n",
    "        # Movie Plot\n",
    "        movie_plot_list = []\n",
    "        movie_plot_element = msoup.select('p.con_tx')\n",
    "        for plot in movie_plot_element:\n",
    "            movie_plot_list.append(plot.text)\n",
    "\n",
    "        # Movie Netizen Rate\n",
    "        movie_natizen_rate = ''\n",
    "        movie_natizen_rate_element = msoup.select('a#pointNetizenPersentBasic em')\n",
    "        for rate in movie_natizen_rate_element:\n",
    "            movie_natizen_rate += rate.text\n",
    "\n",
    "        # Movie Specialist Rate\n",
    "        movie_spc_rate_element = msoup.select('div.special_score div.star_score em')\n",
    "        movie_spc_rate = movie_spc_rate_element[0].text\n",
    "\n",
    "        wr.writerow([count, movie_title, movie_year, movie_info_list, movie_age_list, movie_plot_list, movie_natizen_rate, movie_spc_rate])\n",
    "\n",
    "        count += 1\n",
    "\n",
    "    #page_element = soup.select('div.pagenavigation td.next a')\n",
    "    #update_url = 'http://movie.naver.com' + page_element[0]['href']\n",
    "    #print(update_url)\n",
    "    #break\n",
    "    pnum += 1\n",
    "    if pnum % 100 == 0:\n",
    "        print(pnum) \n",
    "    if pnum == 1661:\n",
    "        break\n",
    "\n",
    "\n",
    "\n"
   ]
  },
  {
   "cell_type": "code",
   "execution_count": 23,
   "metadata": {},
   "outputs": [
    {
     "output_type": "execute_result",
     "data": {
      "text/plain": [
       "1661"
      ]
     },
     "metadata": {},
     "execution_count": 23
    }
   ],
   "source": [
    "pnum"
   ]
  },
  {
   "cell_type": "code",
   "execution_count": 24,
   "metadata": {},
   "outputs": [
    {
     "output_type": "execute_result",
     "data": {
      "text/plain": [
       "23924"
      ]
     },
     "metadata": {},
     "execution_count": 24
    }
   ],
   "source": [
    "count"
   ]
  }
 ]
}