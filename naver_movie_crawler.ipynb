{
 "metadata": {
  "language_info": {
   "codemirror_mode": {
    "name": "ipython",
    "version": 3
   },
   "file_extension": ".py",
   "mimetype": "text/x-python",
   "name": "python",
   "nbconvert_exporter": "python",
   "pygments_lexer": "ipython3",
   "version": "3.7.10"
  },
  "orig_nbformat": 2,
  "kernelspec": {
   "name": "python3710jvsc74a57bd0be9751e75a40df7660ca672ce3f25c04f34c66227ca69b8f4facad73a63cd789",
   "display_name": "Python 3.7.10 64-bit ('nlp': conda)"
  }
 },
 "nbformat": 4,
 "nbformat_minor": 2,
 "cells": [
  {
   "cell_type": "code",
   "execution_count": 1,
   "metadata": {},
   "outputs": [],
   "source": [
    "import time\n",
    "import csv\n",
    "\n",
    "import urllib\n",
    "import requests\n",
    "from bs4 import BeautifulSoup"
   ]
  },
  {
   "cell_type": "code",
   "execution_count": 2,
   "metadata": {},
   "outputs": [],
   "source": [
    "# Korean Movies\n",
    "start_url = 'https://movie.naver.com/movie/sdb/browsing/bmovie.nhn?nation=KR'\n",
    "data_path = './data/poster/'\n"
   ]
  },
  {
   "cell_type": "code",
   "execution_count": 5,
   "metadata": {
    "tags": []
   },
   "outputs": [
    {
     "output_type": "stream",
     "name": "stdout",
     "text": [
      "0.0MHz\n",
      "0.7%의 삶\n",
      "0000\n",
      "007 수퍼맨의 귀향\n",
      "007 폭소 대작전\n",
      "007섹가이폴\n",
      "00씨의 하루\n",
      "01412 파사신검\n",
      "0609_청계산\n",
      "07:00 A.M.\n",
      "0814, 멈춰진 시간- 끝나지 않은 이야기 \n",
      "0=2\n",
      "0시의 그녀\n",
      "[<div class=\"pagenavigation\" style=\"margin-bottom:21px\">\n",
      "<table align=\"center\" border=\"0\" cellpadding=\"0\" cellspacing=\"0\">\n",
      "<tr>\n",
      "<td onmouseout='this.style.background=\"\"' onmouseover='this.style.background=\"#F7F7F7\"' style=\"padding:2 4 0 4;cursor:pointer\"><a href=\"/movie/sdb/browsing/bmovie.nhn?nation=KR&amp;page=1\"><span style=\"color:#FF7632\">1</span></a></td>\n",
      "<td onmouseout='this.style.background=\"\"' onmouseover='this.style.background=\"#F7F7F7\"' style=\"padding:2 4 0 4;cursor:pointer\"><a href=\"/movie/sdb/browsing/bmovie.nhn?nation=KR&amp;page=2\">2</a></td>\n",
      "<td onmouseout='this.style.background=\"\"' onmouseover='this.style.background=\"#F7F7F7\"' style=\"padding:2 4 0 4;cursor:pointer\"><a href=\"/movie/sdb/browsing/bmovie.nhn?nation=KR&amp;page=3\">3</a></td>\n",
      "<td onmouseout='this.style.background=\"\"' onmouseover='this.style.background=\"#F7F7F7\"' style=\"padding:2 4 0 4;cursor:pointer\"><a href=\"/movie/sdb/browsing/bmovie.nhn?nation=KR&amp;page=4\">4</a></td>\n",
      "<td onmouseout='this.style.background=\"\"' onmouseover='this.style.background=\"#F7F7F7\"' style=\"padding:2 4 0 4;cursor:pointer\"><a href=\"/movie/sdb/browsing/bmovie.nhn?nation=KR&amp;page=5\">5</a></td>\n",
      "<td onmouseout='this.style.background=\"\"' onmouseover='this.style.background=\"#F7F7F7\"' style=\"padding:2 4 0 4;cursor:pointer\"><a href=\"/movie/sdb/browsing/bmovie.nhn?nation=KR&amp;page=6\">6</a></td>\n",
      "<td onmouseout='this.style.background=\"\"' onmouseover='this.style.background=\"#F7F7F7\"' style=\"padding:2 4 0 4;cursor:pointer\"><a href=\"/movie/sdb/browsing/bmovie.nhn?nation=KR&amp;page=7\">7</a></td>\n",
      "<td onmouseout='this.style.background=\"\"' onmouseover='this.style.background=\"#F7F7F7\"' style=\"padding:2 4 0 4;cursor:pointer\"><a href=\"/movie/sdb/browsing/bmovie.nhn?nation=KR&amp;page=8\">8</a></td>\n",
      "<td onmouseout='this.style.background=\"\"' onmouseover='this.style.background=\"#F7F7F7\"' style=\"padding:2 4 0 4;cursor:pointer\"><a href=\"/movie/sdb/browsing/bmovie.nhn?nation=KR&amp;page=9\">9</a></td>\n",
      "<td onmouseout='this.style.background=\"\"' onmouseover='this.style.background=\"#F7F7F7\"' style=\"padding:2 4 0 4;cursor:pointer\"><a href=\"/movie/sdb/browsing/bmovie.nhn?nation=KR&amp;page=10\">10</a></td>\n",
      "<td class=\"next\" nowrap=\"\" style=\"padding:1 8 1 8\"><a href=\"/movie/sdb/browsing/bmovie.nhn?nation=KR&amp;page=2\">다음</a></td>\n",
      "</tr>\n",
      "</table>\n",
      "</div>]\n"
     ]
    }
   ],
   "source": [
    "update_url = start_url\n",
    "count = 0\n",
    "pnum = 1\n",
    "\n",
    "csv_file = open('data/movie_data.csv', 'w', encoding='utf-8-sig', newline='')\n",
    "wr = csv.writer(csv_file)\n",
    "\n",
    "while True:\n",
    "    r = requests.get(update_url)\n",
    "    soup = BeautifulSoup(r.text, 'html.parser')\n",
    "\n",
    "    link_element = soup.select('#old_content > .directory_list > li > a[href]')\n",
    "\n",
    "    for movie_link in link_element:\n",
    "        movie_url = 'http://movie.naver.com' + movie_link['href']\n",
    "\n",
    "        mr = requests.get(movie_url)\n",
    "        msoup = BeautifulSoup(mr.text, 'html.parser')\n",
    "\n",
    "        # Movie Poster\n",
    "        movie_poster_element = msoup.select('div.poster img')\n",
    "        movie_poster_isavailable = movie_poster_element[0]['alt']\n",
    "\n",
    "        if movie_poster_isavailable == '이미지 준비중입니다.':\n",
    "            continue\n",
    "\n",
    "        movie_poster_url = movie_poster_element[1]['src']\n",
    "        urllib.request.urlretrieve(movie_poster_url, data_path+str(count).zfill(6)+\".jpg\")\n",
    "\n",
    "        # Movie Title\n",
    "        movie_title_element = msoup.select('h3.h_movie > a')\n",
    "        movie_title = movie_title_element[0].text\n",
    "\n",
    "        # Movie Year\n",
    "        movie_year_element = msoup.select('strong.h_movie2')\n",
    "        movie_year = movie_year_element[0].text\n",
    "\n",
    "        # Movie Info\n",
    "        movie_info_list = []\n",
    "        movie_info_element = msoup.select('dl.info_spec dd a')\n",
    "        for movie_info in movie_info_element:\n",
    "            if movie_info.text == '더보기':\n",
    "                continue\n",
    "            movie_info_list.append(movie_info.text)\n",
    "\n",
    "        # Movie Age\n",
    "        movie_age_list = []\n",
    "        movie_age_element = msoup.select('div.graph_box strong')\n",
    "        for i, movie_age in enumerate(movie_age_element):\n",
    "            if i%2==0:\n",
    "                movie_age_list.append(movie_age.text)\n",
    "            if i==10:\n",
    "                break\n",
    "\n",
    "        # Movie Plot\n",
    "        movie_plot_list = []\n",
    "        movie_plot_element = msoup.select('p.con_tx')\n",
    "        for plot in movie_plot_element:\n",
    "            movie_plot_list.append(plot.text)\n",
    "\n",
    "        # Movie Netizen Rate\n",
    "        movie_natizen_rate = ''\n",
    "        movie_natizen_rate_element = msoup.select('a#pointNetizenPersentBasic em')\n",
    "        for rate in movie_natizen_rate_element:\n",
    "            movie_natizen_rate += rate.text\n",
    "\n",
    "        # Movie Specialist Rate\n",
    "        movie_spc_rate_element = msoup.select('div.special_score div.star_score em')\n",
    "        movie_spc_rate = movie_spc_rate_element[0].text\n",
    "\n",
    "        wr.writerow([count, movie_title, movie_year, movie_info_list, movie_age_list, movie_plot_list, movie_natizen_rate, movie_spc_rate])\n",
    "\n",
    "        count += 1\n",
    "\n",
    "        print(movie_title)\n",
    "\n",
    "    page_element = soup.select('div.pagenavigation td.next a')\n",
    "    update_url = 'http://movie.naver.com' + page_element[0]['href']\n",
    "\n",
    "    break\n",
    "\n",
    "\n"
   ]
  },
  {
   "cell_type": "code",
   "execution_count": 11,
   "metadata": {},
   "outputs": [
    {
     "output_type": "stream",
     "name": "stdout",
     "text": [
      "/movie/sdb/browsing/bmovie.nhn?nation=KR&page=2\n"
     ]
    }
   ],
   "source": [
    "page_element = soup.select('div.pagenavigation td.next a')\n",
    "print(page_element[0]['href'])\n"
   ]
  },
  {
   "cell_type": "code",
   "execution_count": null,
   "metadata": {},
   "outputs": [],
   "source": []
  }
 ]
}
